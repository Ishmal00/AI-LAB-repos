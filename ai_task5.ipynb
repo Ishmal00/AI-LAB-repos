{
 "cells": [
  {
   "cell_type": "markdown",
   "id": "d24e6cc6",
   "metadata": {},
   "source": [
    "### ***Lab 5 Task***\n",
    "*** Submitted by : Ishmal Nadeem (101)** \n",
    "### 1. DFS with Stack & Node \n"
   ]
  },
  {
   "cell_type": "code",
   "execution_count": null,
   "id": "54bf869f",
   "metadata": {},
   "outputs": [
    {
     "name": "stdout",
     "output_type": "stream",
     "text": [
      "['A', 'B', 'D', 'E', 'C', 'F']\n"
     ]
    }
   ],
   "source": [
    "tree = {\n",
    "    'A': ['B', 'C'],\n",
    "    'B': ['D', 'E'],\n",
    "    'C': ['F'],\n",
    "    'D': [],\n",
    "    'E': [],\n",
    "    'F': ['G'],\n",
    "    'G': []\n",
    "}\n",
    "\n",
    "def dfs_recursive(node , goal, visited=None):\n",
    "    if visited is None:\n",
    "        visited = []  \n",
    "\n",
    "    visited.append(node)\n",
    "\n",
    "    if node == goal:\n",
    "        return visited\n",
    "\n",
    "    for child in tree[node]:\n",
    "        if child not in visited:\n",
    "            result = dfs_recursive(child, goal, visited)\n",
    "            if goal in result:\n",
    "                return result\n",
    "\n",
    "    return visited\n",
    "\n",
    "print(dfs_recursive('A', 'F'))\n"
   ]
  },
  {
   "cell_type": "markdown",
   "id": "d2542a40",
   "metadata": {},
   "source": [
    "### 2. Research about \"Inorder, Preorder, Postorder\" and implement in DFS "
   ]
  },
  {
   "cell_type": "raw",
   "id": "9e569831",
   "metadata": {
    "vscode": {
     "languageId": "raw"
    }
   },
   "source": [
    "Tree Traversals (Inorder, Preorder, Postorder)\n",
    "\n",
    "Tree traversals thoda alag concept hain. DFS ke hi types hain jo binary trees ke liye define kiye gaye hain. Tumhare case mein tree binary bhi ho sakta hai aur general bhi.\n",
    "\n",
    "Preorder (Root → Left → Right)\n",
    "Pehle root visit karo, phir left subtree, phir right.\n",
    "Example: A B D E C F G\n",
    "\n",
    "Inorder (Left → Root → Right)\n",
    "Pehle left subtree, phir root, phir right.\n",
    "Example: D B E A F C G\n",
    "(sirf binary trees mein sense banta hai kyunki \"left\" aur \"right\" honay chahiye)\n",
    "\n",
    "Postorder (Left → Right → Root)\n",
    "Pehle left subtree, phir right, phir root.\n",
    "Example: D E B G F C A\n",
    "\n",
    "Ye traversals DFS ke order decide karne ke different rules hain."
   ]
  },
  {
   "cell_type": "markdown",
   "id": "177761f4",
   "metadata": {},
   "source": [
    "1. Preorder (Root → Left → Right)\n",
    "\n",
    "Pehle root node visit hoti hai\n",
    "\n",
    "Phir left subtree\n",
    "\n",
    "Phir right subtree\n",
    "\n",
    "2. Inorder (Left → Root → Right)\n",
    "\n",
    "Pehle left subtree\n",
    "\n",
    "Phir root node\n",
    "\n",
    "Phir right subtree\n",
    "\n",
    "⚠️ Note: Inorder sirf binary tree me sense banata hai (kyunki hamesha ek left aur ek right child hota hai).\n",
    "\n",
    "3. Postorder (Left → Right → Root)\n",
    "\n",
    "Pehle left subtree\n",
    "\n",
    "Phir right subtree\n",
    "\n",
    "Last me root node\n",
    "--------------------------------------\n",
    "Conclusion :\n",
    "\n",
    "Preorder = Root sabse pehle\n",
    "\n",
    "Inorder = Root beech me\n",
    "\n",
    "Postorder = Root sabse baad"
   ]
  },
  {
   "cell_type": "code",
   "execution_count": 3,
   "id": "b2fdaafc",
   "metadata": {},
   "outputs": [],
   "source": [
    "tree = {\n",
    "    'A': ['B', 'C'],\n",
    "    'B': ['D', 'E'],\n",
    "    'C': ['F'],\n",
    "    'D': [],\n",
    "    'E': [],\n",
    "    'F': ['G'],\n",
    "    'G': []\n",
    "}\n",
    "\n",
    "def preorder(node):\n",
    "    if node:\n",
    "        print(node, end=\" \")      # Root\n",
    "        for child in tree[node]:  # Left → Right\n",
    "            preorder(child)\n",
    "\n",
    "def inorder(node):\n",
    "    if node:\n",
    "        children = tree[node]\n",
    "        if len(children) >= 1:    # Left child\n",
    "            inorder(children[0])\n",
    "        print(node, end=\" \")      # Root\n",
    "        if len(children) == 2:    # Right child\n",
    "            inorder(children[1])\n",
    "\n",
    "def postorder(node):\n",
    "    if node:\n",
    "        for child in tree[node]:  # Left → Right\n",
    "            postorder(child)\n",
    "        print(node, end=\" \")      # Root\n"
   ]
  },
  {
   "cell_type": "code",
   "execution_count": 4,
   "id": "8d829f4f",
   "metadata": {},
   "outputs": [
    {
     "name": "stdout",
     "output_type": "stream",
     "text": [
      "Preorder: \n",
      "A B D E C F G \n",
      "Inorder: \n",
      "D B E A G F C \n",
      "Postorder: \n",
      "D E B G F C A "
     ]
    }
   ],
   "source": [
    "print(\"Preorder: \")\n",
    "preorder('A')     # A B D E C F G\n",
    "\n",
    "print(\"\\nInorder: \")\n",
    "inorder('A')      # D B E A F C G\n",
    "\n",
    "print(\"\\nPostorder: \")\n",
    "postorder('A')    # D E B G F C A\n"
   ]
  }
 ],
 "metadata": {
  "kernelspec": {
   "display_name": "Python 3",
   "language": "python",
   "name": "python3"
  },
  "language_info": {
   "codemirror_mode": {
    "name": "ipython",
    "version": 3
   },
   "file_extension": ".py",
   "mimetype": "text/x-python",
   "name": "python",
   "nbconvert_exporter": "python",
   "pygments_lexer": "ipython3",
   "version": "3.13.0"
  }
 },
 "nbformat": 4,
 "nbformat_minor": 5
}
