{
 "cells": [
  {
   "cell_type": "markdown",
   "id": "e948f407",
   "metadata": {},
   "source": [
    "### *TASK 4*\n",
    "## ***AI LAB***\n",
    "#### Submitted by: Ishmal Nadeem (101)\n",
    "#### Submitted to : Respected Sir Rasikh"
   ]
  },
  {
   "cell_type": "markdown",
   "id": "89506413",
   "metadata": {},
   "source": [
    "### Lab 4 Task \n",
    "*1. Code for LUHN Algorithm*\n",
    "- Remove the rightmost digit from the card number. This number is called the checking digit, and it will be excluded from most of our calculations. \n",
    "- Reverse the order of the remaining digits. \n",
    "- For this sequence of reversed digits, take the digits at each of the even indices (0, 2, 4, 6, etc.) and double them.\n",
    "-  If any of the results are greater than 9, subtract 9 from those numbers. \n",
    "- Add together all of the results and add the checking digit. \n",
    "- If the result is divisible by 10, the number is a valid card number. If it's not, the card number is not valid. \n"
   ]
  },
  {
   "cell_type": "code",
   "execution_count": null,
   "id": "f96ff881",
   "metadata": {},
   "outputs": [
    {
     "name": "stdout",
     "output_type": "stream",
     "text": [
      "Valid Card Number\n"
     ]
    }
   ],
   "source": [
    "class LUHN:\n",
    "    def __init__(self, limit):\n",
    "        self.limit = limit\n",
    "        self.num_list = []\n",
    "\n",
    "    def push(self):\n",
    "        while len(self.num_list) < self.limit:\n",
    "            e = int(input(\"Enter integer values for list: \"))\n",
    "            self.num_list.append(e)\n",
    "\n",
    "    def pop(self):\n",
    "        if self.num_list:\n",
    "            return self.num_list.pop()\n",
    "        return None\n",
    "\n",
    "    def check(self, check_digit):\n",
    "        temp_list = []\n",
    "        for i in range(len(self.num_list) - 1, -1, -1):\n",
    "            temp_list.append(self.num_list[i])\n",
    "\n",
    "        for i in range(0, len(temp_list), 2):\n",
    "            temp_list[i] *= 2\n",
    "            if temp_list[i] > 9:\n",
    "                temp_list[i] -= 9\n",
    "\n",
    "        total_sum = sum(temp_list) + check_digit\n",
    "        if total_sum % 10 == 0:\n",
    "            print(\"Valid Card Number\")\n",
    "        else:\n",
    "            print(\"Invalid Card Number\")\n",
    "\n",
    "\n",
    "obj = LUHN(16)\n",
    "obj.push()\n",
    "check_digit = obj.pop()\n",
    "if check_digit is not None:\n",
    "    obj.check(check_digit)\n",
    "\n",
    "# 5 8 9 3 8 0 4 1 1 5 4 5 7 2 8 9” (valid number to check code)\n"
   ]
  },
  {
   "cell_type": "markdown",
   "id": "b87431dc",
   "metadata": {},
   "source": [
    "*2. Write a python program to remove punctuations from the given string?* \n"
   ]
  },
  {
   "cell_type": "code",
   "execution_count": null,
   "id": "2cf0287e",
   "metadata": {},
   "outputs": [
    {
     "name": "stdout",
     "output_type": "stream",
     "text": [
      "Your original text is: ishmal;'.,\n",
      "Here is your text without punctuation: ishmal\n"
     ]
    }
   ],
   "source": [
    "def clean_string(text):\n",
    "    punctuation = \"''!{}[]();!@#$%6&*+|\\\\?/><,.~`\"  \n",
    "    result = ''\n",
    "    for i in text:\n",
    "        if i not in punctuation:\n",
    "            result += i\n",
    "    return result\n",
    "\n",
    "input_text = input(\"Enter a string: \")\n",
    "print(\"Your original text is:\", input_text)\n",
    "clean_text = clean_string(input_text)\n",
    "print(\"Here is your text without punctuation:\", clean_text)\n"
   ]
  },
  {
   "cell_type": "markdown",
   "id": "f576e596",
   "metadata": {},
   "source": [
    "*3. Write a python program to sort the sentence in alphabetical order?* "
   ]
  },
  {
   "cell_type": "code",
   "execution_count": 3,
   "id": "8b4f8c3b",
   "metadata": {},
   "outputs": [
    {
     "name": "stdout",
     "output_type": "stream",
     "text": [
      "Sentence in alphabetical order: hi is ishmal my name\n"
     ]
    }
   ],
   "source": [
    "def sort(sentence):\n",
    "    words = sentence.split()\n",
    "    \n",
    "    n = len(words)\n",
    "    for i in range(n):\n",
    "        for j in range(0, n-i-1):\n",
    "            if words[j] > words[j+1]: \n",
    "                words[j], words[j+1] = words[j+1], words[j]\n",
    "    \n",
    "    return \" \".join(words)\n",
    "\n",
    "sentence = input(\"Enter a sentence: \")\n",
    "sorted_sentence = sort(sentence)\n",
    "print(\"Sentence in alphabetical order:\", sorted_sentence)\n"
   ]
  },
  {
   "cell_type": "code",
   "execution_count": 2,
   "id": "fe0026c5",
   "metadata": {},
   "outputs": [
    {
     "name": "stdout",
     "output_type": "stream",
     "text": [
      "Original Word:  ishmal\n",
      "String in alphabetical order: ahilms\n"
     ]
    }
   ],
   "source": [
    "# sorting of string using bubble sort, slicing and indexing\n",
    "\n",
    "def sort_string(text):\n",
    "    char = list(text)  \n",
    "    \n",
    "    \n",
    "    n = len(char)\n",
    "    for i in range(n):\n",
    "        for j in range(0, n-i-1):\n",
    "            if char[j] > char[j+1]: \n",
    "                char[j], char[j+1] = char[j+1], char[j]\n",
    "    \n",
    "    return \"\".join(char)\n",
    "\n",
    "word = input(\"Enter a string: \")\n",
    "print(\"Original Word: \", word)\n",
    "sort_word = sort_string(word)\n",
    "print(\"String in alphabetical order:\", sort_word)\n"
   ]
  }
 ],
 "metadata": {
  "kernelspec": {
   "display_name": "Python 3",
   "language": "python",
   "name": "python3"
  },
  "language_info": {
   "codemirror_mode": {
    "name": "ipython",
    "version": 3
   },
   "file_extension": ".py",
   "mimetype": "text/x-python",
   "name": "python",
   "nbconvert_exporter": "python",
   "pygments_lexer": "ipython3",
   "version": "3.13.0"
  }
 },
 "nbformat": 4,
 "nbformat_minor": 5
}
