{
 "cells": [
  {
   "cell_type": "markdown",
   "id": "e948f407",
   "metadata": {},
   "source": [
    "### *TASK 4*\n",
    "## ***AI LAB***\n",
    "#### Submitted by: Ishmal Nadeem (101)\n",
    "#### Submitted to : Respected Sir Rasikh"
   ]
  },
  {
   "cell_type": "markdown",
   "id": "89506413",
   "metadata": {},
   "source": [
    "### Lab 4 Task \n",
    "*1. Code for LUHN Algorithm*\n",
    "- Remove the rightmost digit from the card number. This number is called the checking digit, and it will be excluded from most of our calculations. \n",
    "- Reverse the order of the remaining digits. \n",
    "- For this sequence of reversed digits, take the digits at each of the even indices (0, 2, 4, 6, etc.) and double them.\n",
    "-  If any of the results are greater than 9, subtract 9 from those numbers. \n",
    "- Add together all of the results and add the checking digit. \n",
    "- If the result is divisible by 10, the number is a valid card number. If it's not, the card number is not valid. \n"
   ]
  },
  {
   "cell_type": "code",
   "execution_count": 5,
   "id": "f96ff881",
   "metadata": {},
   "outputs": [
    {
     "name": "stdout",
     "output_type": "stream",
     "text": [
      "Step 1 \n",
      "First value is popped , popped number is: 9\n",
      "Updated list : [5, 8, 9, 3, 8, 0, 4, 1, 1, 5, 4, 5, 7, 2, 8]\n",
      "Step 2 \n",
      "Reversed list: [8, 2, 7, 5, 4, 5, 1, 1, 4, 0, 8, 3, 9, 8, 5]\n",
      "Step 3 & 4 \n",
      "Processed list: [7, 2, 5, 5, 8, 5, 2, 1, 8, 0, 7, 3, 9, 8, 1]\n",
      "Step 5 \n",
      "Sum with checking digit: 80\n",
      "Step 6\n",
      "Valid Card Number \n"
     ]
    }
   ],
   "source": [
    "class LUHN:\n",
    "    def __init__(self, limit):\n",
    "        self.limit = limit\n",
    "        self.num_list = []\n",
    "\n",
    "    def push(self):\n",
    "        if len(self.num_list) == self.limit:\n",
    "            print(\"list is full\")\n",
    "        else:\n",
    "            for i in range(self.limit - len(self.num_list)):\n",
    "                e = int(input(\"Enter integer values for list:\"))\n",
    "                self.num_list.append(e)\n",
    "\n",
    "    def pop(self):\n",
    "        if self.num_list:\n",
    "            pop_value = self.num_list.pop()\n",
    "            print(\"Step 1 \\nFirst value is popped , popped number is:\", pop_value)\n",
    "            print(\"Updated list :\", self.num_list)\n",
    "            return pop_value  \n",
    "        else:\n",
    "            print(\"No list existed!\")\n",
    "            return None\n",
    "\n",
    "    def sort(self, check_digit):\n",
    "        # Step 2: \n",
    "        self.num_list.reverse()\n",
    "        print(\"Step 2 \\nReversed list:\", self.num_list)\n",
    "\n",
    "        # Step 3 + 4: \n",
    "        for i in range(0, len(self.num_list), 2):\n",
    "            self.num_list[i] *= 2\n",
    "            if self.num_list[i] > 9:\n",
    "                self.num_list[i] -= 9\n",
    "\n",
    "        print(\"Step 3 & 4 \\nProcessed list:\", self.num_list)\n",
    "\n",
    "        # Step 5: \n",
    "        total_sum = sum(self.num_list) + check_digit\n",
    "        print(\"Step 5 \\nSum with checking digit:\", total_sum)\n",
    "\n",
    "\n",
    "        # Step 6: \n",
    "        print(\"Step 6\")\n",
    "        if total_sum % 10 == 0:\n",
    "            print(\"Valid Card Number \")\n",
    "        else:\n",
    "            print(\"Invalid Card Number \")\n",
    "\n",
    "\n",
    "obj = LUHN(16)\n",
    "obj.push()\n",
    "check_digit = obj.pop()   \n",
    "if check_digit is not None:\n",
    "    obj.sort(check_digit)\n",
    "\n",
    "\n",
    "# 5 8 9 3 8 0 4 1 1 5 4 5 7 2 8 9 "
   ]
  },
  {
   "cell_type": "markdown",
   "id": "b87431dc",
   "metadata": {},
   "source": [
    "*2. Write a python program to remove punctuations from the given string?* \n"
   ]
  },
  {
   "cell_type": "code",
   "execution_count": 6,
   "id": "5138c846",
   "metadata": {},
   "outputs": [
    {
     "name": "stderr",
     "output_type": "stream",
     "text": [
      "<>:2: SyntaxWarning: invalid escape sequence '\\?'\n",
      "<>:2: SyntaxWarning: invalid escape sequence '\\?'\n",
      "C:\\Users\\T14\\AppData\\Local\\Temp\\ipykernel_8196\\583549959.py:2: SyntaxWarning: invalid escape sequence '\\?'\n",
      "  punctuation = \"''!{}[]()!@#$%6&*+|\\?/><,.~`\"\n"
     ]
    },
    {
     "name": "stdout",
     "output_type": "stream",
     "text": [
      "Here is your text without punctuation: ishmal\n"
     ]
    }
   ],
   "source": [
    "def without_punc(text):\n",
    "    punctuation = \"''!{}[]()!@#$%6&*+|\\?/><,.~`\"\n",
    "    results = ''\n",
    "    for i in text:\n",
    "       if i not in punctuation:\n",
    "         results += i\n",
    "    return results\n",
    "       \n",
    "\n",
    "input_text = input(\"Enter a string:\")\n",
    "clean_text = without_punc(input_text)\n",
    "print(\"Here is your text without punctuation:\" , clean_text)"
   ]
  },
  {
   "cell_type": "markdown",
   "id": "f576e596",
   "metadata": {},
   "source": [
    "*3. Write a python program to sort the sentence in alphabetical order?* "
   ]
  },
  {
   "cell_type": "code",
   "execution_count": 7,
   "id": "e39650d9",
   "metadata": {},
   "outputs": [
    {
     "name": "stdout",
     "output_type": "stream",
     "text": [
      "Sentence in alphabetical order: is ishmal my nadeem name\n"
     ]
    }
   ],
   "source": [
    "## for sorting sentences\n",
    "def sort_sentence(sentence):\n",
    "    words = sentence.split()\n",
    "    words.sort()\n",
    "    return \" \".join(words)\n",
    "\n",
    "\n",
    "# Example usage\n",
    "input_str = input(\"Enter a sentence: \")\n",
    "sorted_sentence = sort_sentence(input_str)\n",
    "print(\"Sentence in alphabetical order:\", sorted_sentence)\n"
   ]
  },
  {
   "cell_type": "code",
   "execution_count": 8,
   "id": "fe0026c5",
   "metadata": {},
   "outputs": [
    {
     "name": "stdout",
     "output_type": "stream",
     "text": [
      "Entered string without sorting ishmal\n",
      "String in alphabetical order: ahilms\n"
     ]
    }
   ],
   "source": [
    "# <!-- for sorting words(strings) -->\n",
    "\n",
    "def sort_string(text):\n",
    "    sorted_chars = sorted(text)   \n",
    "    return \"\".join(sorted_chars)\n",
    "\n",
    "\n",
    "# Example usage\n",
    "input_str = input(\"Enter a string: \")\n",
    "print(\"Entered string without sorting\" , input_str)\n",
    "sorted_str = sort_string(input_str)\n",
    "print(\"String in alphabetical order:\", sorted_str)\n",
    "\n"
   ]
  }
 ],
 "metadata": {
  "kernelspec": {
   "display_name": "Python 3",
   "language": "python",
   "name": "python3"
  },
  "language_info": {
   "codemirror_mode": {
    "name": "ipython",
    "version": 3
   },
   "file_extension": ".py",
   "mimetype": "text/x-python",
   "name": "python",
   "nbconvert_exporter": "python",
   "pygments_lexer": "ipython3",
   "version": "3.13.0"
  }
 },
 "nbformat": 4,
 "nbformat_minor": 5
}
