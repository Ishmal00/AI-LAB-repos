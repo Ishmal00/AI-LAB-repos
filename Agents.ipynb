{
 "cells": [
  {
   "cell_type": "markdown",
   "id": "9714de28",
   "metadata": {},
   "source": [
    "- Requirements: Set according to fixed temperature\n",
    "- Input: Room Temperature\n",
    "- Output: Print turn on or turn off"
   ]
  },
  {
   "cell_type": "code",
   "execution_count": 1,
   "id": "fe6469af",
   "metadata": {},
   "outputs": [
    {
     "name": "stdout",
     "output_type": "stream",
     "text": [
      "16\n",
      "Living Room :Action AC ON\n",
      "Temp: 26 => Action : AC ON\n",
      "Bed Room :Action AC OFF\n",
      "Temp: 15 => Action : AC OFF\n",
      "Kitchen :Action AC ON\n",
      "Temp: 20 => Action : AC ON\n",
      "Drawing Room :Action AC OFF\n",
      "Temp: -5 => Action : AC OFF\n"
     ]
    }
   ],
   "source": [
    "class SimpleReflexAgent:\n",
    "    pass\n",
    "    def __init__(self , temp):\n",
    "        self.fixed_temp = temp # desired temperature (ac k liye)\n",
    "\n",
    "\n",
    "    def sensor(self,temp):\n",
    "        self.room_temp = temp \n",
    "\n",
    "    def performance (self):\n",
    "        if self.room_temp < self.fixed_temp:\n",
    "            action = \"AC OFF\"\n",
    "            print( \"Action\", action)        \n",
    "        elif self.room_temp > self.fixed_temp:\n",
    "            action = \"AC ON\"\n",
    "            print( \"Action\", action)\n",
    "        return action\n",
    "\n",
    "    def actuator(self):\n",
    "        action =  self.performance()\n",
    "        print(\"Temp:\" , self.room_temp , \"=> Action :\" , action )\n",
    "\n",
    "    \n",
    "agent = SimpleReflexAgent(16) # Fixed Temperature\n",
    "print(agent.fixed_temp)  # Output: 16\n",
    "\n",
    "\n",
    "rooms = {\n",
    "\"Living Room\" : 26 , \n",
    "\"Bed Room\" : 15 ,\n",
    "\"Kitchen\" : 20,\n",
    "\"Drawing Room\" : -5\n",
    "                    }\n",
    "\n",
    "\n",
    "\n",
    "# for room in rooms:         esse b kr skte hain\n",
    "    # temp = rooms[room]\n",
    "for room , temp in rooms.items():\n",
    "    agent.sensor(temp)\n",
    "    print(room , \":\" , end=\"\")\n",
    "\n",
    "    agent.actuator()\n",
    "\n",
    "\n",
    "# print(agent.sensor(25))  # Room Temperature\n",
    "# agent.actuator()        # Output: Action AC ON\n",
    "\n",
    "\n",
    "\n",
    "\n"
   ]
  },
  {
   "cell_type": "markdown",
   "id": "9e06d309",
   "metadata": {},
   "source": [
    "- file handling use kr k , model base agent bna k lana h next class mai."
   ]
  },
  {
   "cell_type": "markdown",
   "id": "b826b4d3",
   "metadata": {},
   "source": [
    "### *MODEL BASE AGENT*\n",
    "- Remember past memory\n",
    "- Do not depend only on current situation (balke past situations b yad rkhta h taake better decision le ske.)"
   ]
  },
  {
   "cell_type": "code",
   "execution_count": null,
   "id": "217f5b2f",
   "metadata": {},
   "outputs": [
    {
     "name": "stdout",
     "output_type": "stream",
     "text": [
      "Fixed Temp: 20\n",
      "bedroom : Temp: 12 => Action: Turn off AC\n",
      "living room : Temp: 20 => Action: Do nothing\n",
      "TV lounge : Temp: 26 => Action: Turn on AC\n",
      "dining area : Temp: 45 => Action: Turn on AC\n"
     ]
    }
   ],
   "source": [
    "class ModelBaseAgent:\n",
    "    def __init__(self, temp):\n",
    "        self.fixed_temp = temp\n",
    "        self.room_temp = None\n",
    "        self.last_action = None  \n",
    "\n",
    "    def sensor(self, temp):\n",
    "        self.room_temp = temp\n",
    "    \n",
    "    def performance(self):\n",
    "        if self.room_temp > self.fixed_temp:\n",
    "            action = \"Turn on AC\"\n",
    "        elif self.room_temp < self.fixed_temp:\n",
    "            action = \"Turn off AC\"\n",
    "        else:\n",
    "            action = \"Do nothing\"\n",
    "        \n",
    "        self.last_action = action\n",
    "        return action\n",
    "\n",
    "    def actuator(self):\n",
    "        action = self.performance()\n",
    "        print(\"Temp:\", self.room_temp, \"=> Action:\", action)\n",
    "        \n",
    "\n",
    "# agent banate hain\n",
    "agent = ModelBaseAgent(20)\n",
    "print(\"Fixed Temp:\", agent.fixed_temp)\n",
    "\n",
    "rooms = {\n",
    "    \"bedroom\": 12,\n",
    "    \"living room\": 20,\n",
    "    \"TV lounge\": 26,\n",
    "    \"dining area\": 45\n",
    "}\n",
    "\n",
    "for room, temp in rooms.items():\n",
    "    agent.sensor(temp)\n",
    "    print(room, \":\", end=\" \")\n",
    "    agent.actuator()\n",
    "\n",
    "\n",
    "\n",
    "\n",
    "\n"
   ]
  },
  {
   "cell_type": "code",
   "execution_count": null,
   "id": "2d0b3c7b",
   "metadata": {},
   "outputs": [
    {
     "name": "stdout",
     "output_type": "stream",
     "text": [
      "Fixed Temp: 20\n",
      "Room: bedroom, Temp: 12, Action: None\n"
     ]
    },
    {
     "ename": "UnboundLocalError",
     "evalue": "cannot access local variable 'action' where it is not associated with a value",
     "output_type": "error",
     "traceback": [
      "\u001b[1;31m---------------------------------------------------------------------------\u001b[0m",
      "\u001b[1;31mUnboundLocalError\u001b[0m                         Traceback (most recent call last)",
      "Cell \u001b[1;32mIn[10], line 51\u001b[0m\n\u001b[0;32m     49\u001b[0m \u001b[38;5;28;01mfor\u001b[39;00m room, temp \u001b[38;5;129;01min\u001b[39;00m rooms\u001b[38;5;241m.\u001b[39mitems():\n\u001b[0;32m     50\u001b[0m     agent\u001b[38;5;241m.\u001b[39msensor(temp)\n\u001b[1;32m---> 51\u001b[0m     \u001b[43magent\u001b[49m\u001b[38;5;241;43m.\u001b[39;49m\u001b[43mactuator\u001b[49m\u001b[43m(\u001b[49m\u001b[43mroom\u001b[49m\u001b[43m)\u001b[49m\n",
      "Cell \u001b[1;32mIn[10], line 28\u001b[0m, in \u001b[0;36mModelBaseAgent.actuator\u001b[1;34m(self, room_name)\u001b[0m\n\u001b[0;32m     27\u001b[0m \u001b[38;5;28;01mdef\u001b[39;00m \u001b[38;5;21mactuator\u001b[39m(\u001b[38;5;28mself\u001b[39m, room_name):\n\u001b[1;32m---> 28\u001b[0m     action \u001b[38;5;241m=\u001b[39m \u001b[38;5;28;43mself\u001b[39;49m\u001b[38;5;241;43m.\u001b[39;49m\u001b[43mperformance\u001b[49m\u001b[43m(\u001b[49m\u001b[43m)\u001b[49m\n\u001b[0;32m     29\u001b[0m     output \u001b[38;5;241m=\u001b[39m \u001b[38;5;124mf\u001b[39m\u001b[38;5;124m\"\u001b[39m\u001b[38;5;124mRoom: \u001b[39m\u001b[38;5;132;01m{\u001b[39;00mroom_name\u001b[38;5;132;01m}\u001b[39;00m\u001b[38;5;124m, Temp: \u001b[39m\u001b[38;5;132;01m{\u001b[39;00m\u001b[38;5;28mself\u001b[39m\u001b[38;5;241m.\u001b[39mroom_temp\u001b[38;5;132;01m}\u001b[39;00m\u001b[38;5;124m, Action: \u001b[39m\u001b[38;5;132;01m{\u001b[39;00maction\u001b[38;5;132;01m}\u001b[39;00m\u001b[38;5;124m\"\u001b[39m\n\u001b[0;32m     30\u001b[0m     \u001b[38;5;28mprint\u001b[39m(output)\n",
      "Cell \u001b[1;32mIn[10], line 21\u001b[0m, in \u001b[0;36mModelBaseAgent.performance\u001b[1;34m(self)\u001b[0m\n\u001b[0;32m     19\u001b[0m \u001b[38;5;28;01melif\u001b[39;00m \u001b[38;5;28mself\u001b[39m\u001b[38;5;241m.\u001b[39mroom_temp \u001b[38;5;241m<\u001b[39m \u001b[38;5;28mself\u001b[39m\u001b[38;5;241m.\u001b[39mfixed_temp:\n\u001b[0;32m     20\u001b[0m     action \u001b[38;5;241m=\u001b[39m \u001b[38;5;124m\"\u001b[39m\u001b[38;5;124mTurn off AC\u001b[39m\u001b[38;5;124m\"\u001b[39m\n\u001b[1;32m---> 21\u001b[0m \u001b[38;5;28;01melif\u001b[39;00m  \u001b[38;5;28mself\u001b[39m\u001b[38;5;241m.\u001b[39mlast_action \u001b[38;5;241m==\u001b[39m \u001b[43maction\u001b[49m:\n\u001b[0;32m     22\u001b[0m     action \u001b[38;5;241m=\u001b[39m \u001b[38;5;124m\"\u001b[39m\u001b[38;5;124mDo nothing\u001b[39m\u001b[38;5;124m\"\u001b[39m\n\u001b[0;32m     23\u001b[0m     \u001b[38;5;28;01mreturn\u001b[39;00m \u001b[38;5;28mself\u001b[39m\u001b[38;5;241m.\u001b[39mroom_temp\n",
      "\u001b[1;31mUnboundLocalError\u001b[0m: cannot access local variable 'action' where it is not associated with a value"
     ]
    }
   ],
   "source": [
    "class ModelBaseAgent:\n",
    "    def __init__(self, temp):\n",
    "        self.memory_file=\"agent_memory.txt\"\n",
    "        self.fixed_temp = temp\n",
    "        self.room_temp = None\n",
    "        self.last_action = None  \n",
    "\n",
    "\n",
    "        with open(self.memory_file, \"w\") as f:\n",
    "            f.write(\" Agent Memory Log \")\n",
    "\n",
    "    def sensor(self, temp):\n",
    "        self.room_temp = temp\n",
    "    \n",
    "    def performance(self):\n",
    "\n",
    "        if self.room_temp > self.fixed_temp:\n",
    "            action = \"Turn on AC\"\n",
    "        elif self.room_temp < self.fixed_temp:\n",
    "            action = \"Turn off AC\"\n",
    "        else:\n",
    "            action = \"Do nothing\"\n",
    "        \n",
    "        self.last_action = action\n",
    "        return action\n",
    "\n",
    "    def actuator(self, room_name):\n",
    "        action = self.performance()\n",
    "        output = f\"Room: {room_name}, Temp: {self.room_temp}, Action: {action}\"\n",
    "        print(output)\n",
    "\n",
    "\n",
    "        with open(self.memory_file, \"a\") as f:\n",
    "            f.write(output + \"\\n\")\n",
    "\n",
    "\n",
    "# agent banate hain\n",
    "agent = ModelBaseAgent(20)\n",
    "print(\"Fixed Temp:\", agent.fixed_temp)\n",
    "\n",
    "rooms = {\n",
    "    \"bedroom\": 12,\n",
    "    \"living room\": 20,\n",
    "    \"TV lounge\": 26,\n",
    "    \"dining area\": 45\n",
    "\n",
    "}\n",
    "\n",
    "for room, temp in rooms.items():\n",
    "    agent.sensor(temp)\n",
    "    agent.actuator(room)\n",
    "\n",
    "\n"
   ]
  },
  {
   "cell_type": "code",
   "execution_count": null,
   "id": "512182e4",
   "metadata": {},
   "outputs": [],
   "source": [
    "class ModelBaseAgent:\n",
    "    def __init__(self,temp):\n",
    "        self.fixed_temp = temp\n",
    "        self.room_temp = None\n",
    "        self.last_action = None\n",
    "\n",
    "\n",
    "    def sensor(self , temp):\n",
    "        self.room_temp = temp\n",
    "\n",
    "\n",
    "    def performance(self):\n",
    "         if self.room_temp > self.fixed_temp :\n",
    "             action = (\"Turn on AC\")\n",
    "         elif self.room_temp < self.fixed_temp :\n",
    "             action = (\"Turn off AC\")\n",
    "         else: \n",
    "            print(\"Do nothing\")\n",
    "\n",
    "         self.last_action = action\n",
    "         return action\n",
    "    def actuator(self):\n",
    "            action = self.performance()"
   ]
  }
 ],
 "metadata": {
  "kernelspec": {
   "display_name": "Python 3",
   "language": "python",
   "name": "python3"
  },
  "language_info": {
   "codemirror_mode": {
    "name": "ipython",
    "version": 3
   },
   "file_extension": ".py",
   "mimetype": "text/x-python",
   "name": "python",
   "nbconvert_exporter": "python",
   "pygments_lexer": "ipython3",
   "version": "3.13.0"
  }
 },
 "nbformat": 4,
 "nbformat_minor": 5
}
